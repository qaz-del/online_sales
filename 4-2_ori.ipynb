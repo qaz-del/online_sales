{
 "cells": [
  {
   "cell_type": "code",
   "execution_count": 1,
   "metadata": {},
   "outputs": [],
   "source": [
    "import pandas as pd\n",
    "import numpy as np"
   ]
  },
  {
   "cell_type": "code",
   "execution_count": 2,
   "metadata": {},
   "outputs": [],
   "source": [
    "raw_order=pd.read_excel(r\"D:\\数模\\第四次模拟题——在线零售商的订单履行\\附件一.xlsx\")\n",
    "raw_warehouse=pd.read_excel(r\"D:\\数模\\第四次模拟题——在线零售商的订单履行\\附件二.xlsx\")"
   ]
  },
  {
   "cell_type": "code",
   "execution_count": 3,
   "metadata": {},
   "outputs": [],
   "source": [
    "\n",
    "SKU1=raw_order['订单中的SKU']\n",
    "SKU_in_order=[]\n",
    "# 原有数据类型为'[]'型，先进行转化,最终要得到['','']的形式\n",
    "for order in SKU1:\n",
    "    if type(order)==int:\n",
    "        SKU_in_order.append(str(order))\n",
    "    else:\n",
    "        order=order[1:-1].split(\",\")\n",
    "        SKU_in_order.append(order)\n",
    "\n"
   ]
  },
  {
   "cell_type": "code",
   "execution_count": 4,
   "metadata": {},
   "outputs": [],
   "source": [
    "SKU_w1=raw_warehouse['仓库1'][:-1]\n",
    "pos_w1=[0.516205320509211,83.7701245337600]\n",
    "SKU_w2=raw_warehouse['仓库2'][:-1]\n",
    "pos_w2=[30.0817907887535,1.17493342829637]\n",
    "SKU_w3=raw_warehouse['仓库3'][:-1]\n",
    "pos_w3=[58.8349268443702,89.8949407626723]"
   ]
  },
  {
   "cell_type": "code",
   "execution_count": 5,
   "metadata": {},
   "outputs": [],
   "source": [
    "# 储存货品编号\n",
    "W=[]\n",
    "W1=[]\n",
    "W2=[]\n",
    "W3=[]\n",
    "for i in range(len(SKU_w1)):\n",
    "    if SKU_w1[i]==1:\n",
    "        W1.append(str(i+1))\n",
    "    if SKU_w2[i]==1:\n",
    "        W2.append(str(i+1))\n",
    "    if SKU_w3[i]==1:\n",
    "        W3.append(str(i+1))\n",
    "W1=set(W1)\n",
    "W2=set(W2)\n",
    "W3=set(W3)\n",
    "W.append(W1)\n",
    "W.append(W2)\n",
    "W.append(W3)"
   ]
  },
  {
   "cell_type": "code",
   "execution_count": 6,
   "metadata": {},
   "outputs": [],
   "source": [
    "pos_order=raw_order['订单对应的顾客位置坐标']\n",
    "pos_o=[]\n",
    "for i in pos_order:\n",
    "    i=i[1:-1].split(\",\")\n",
    "    pos_o.append([float(t) for t in i])\n"
   ]
  },
  {
   "cell_type": "code",
   "execution_count": 7,
   "metadata": {},
   "outputs": [],
   "source": [
    "import math\n",
    "def dis(order_pos):\n",
    "    dis1=math.sqrt((order_pos[0]-pos_w1[0])**2+(order_pos[1]-pos_w1[1])**2)\n",
    "    dis2=math.sqrt((order_pos[0]-pos_w2[0])**2+(order_pos[1]-pos_w2[1])**2)\n",
    "    dis3=math.sqrt((order_pos[0]-pos_w3[0])**2+(order_pos[1]-pos_w3[1])**2)\n",
    "    return [dis1,dis2,dis3]"
   ]
  },
  {
   "cell_type": "code",
   "execution_count": 8,
   "metadata": {},
   "outputs": [
    {
     "data": {
      "text/plain": [
       "[86.38490479276503, 52.393894715563654, 57.34161048780241]"
      ]
     },
     "execution_count": 8,
     "metadata": {},
     "output_type": "execute_result"
    }
   ],
   "source": [
    "dis(pos_o[0])"
   ]
  },
  {
   "cell_type": "code",
   "execution_count": 9,
   "metadata": {},
   "outputs": [],
   "source": [
    "transfee=[\n",
    "    [0,1.95,1.4],\n",
    "    [1.95,0,2.1],\n",
    "    [1.4,2.1,0]\n",
    "]"
   ]
  },
  {
   "cell_type": "code",
   "execution_count": 34,
   "metadata": {},
   "outputs": [],
   "source": [
    "cost=[]\n",
    "for i in range(len(SKU_in_order)):\n",
    "    order_need=set(SKU_in_order[i])\n",
    "    pos=dis(pos_o[i])\n",
    "    A=pos.index(min(pos))\n",
    "    C=pos.index(max(pos))\n",
    "    cost1=100\n",
    "    cost2=100\n",
    "    cost3=100\n",
    "    cost4=100\n",
    "    cost5=100\n",
    "    cost6=100\n",
    "    cost7=100\n",
    "    cost8=100\n",
    "    cost9=100\n",
    "    cost10=100\n",
    "    cost11=100\n",
    "    cost12=100\n",
    "\n",
    "\n",
    "    for j in pos:\n",
    "        if j<max(pos) and j >min(pos):\n",
    "            B=pos.index(j)\n",
    "\n",
    "    if min(pos)<5:\n",
    "            costA=3\n",
    "    else :\n",
    "            costA=3+0.2*(min(pos)-5)\n",
    "\n",
    "    if pos[B]<5:\n",
    "            costB=3\n",
    "    else :\n",
    "            costB=3+0.2*(pos[B]-5)\n",
    "    \n",
    "    if max(pos)<5:\n",
    "            costC=3\n",
    "    else :\n",
    "            costC=3+0.2*(max(pos)-5)\n",
    "\n",
    "    # 仅需A就可以满足\n",
    "    if order_need.issubset(W[A]):\n",
    "        cost.append(costA)\n",
    "        continue\n",
    "    # 从其他两个仓库直接发出\n",
    "    if order_need.issubset(W[B]):\n",
    "        cost1=costB\n",
    "    if order_need.issubset(W[C]):\n",
    "        cost2=costC\n",
    "\n",
    "\n",
    "    # AB\n",
    "    if order_need.issubset(W[B]|W[A]):\n",
    "        trans_fee1=len(order_need.difference(W[A]))*transfee[A][B] #从A去的转运费\n",
    "        trans_fee2=len(order_need.difference(W[B]))*transfee[A][B] #从B去的转运费\n",
    "        cost3=min(costA+trans_fee1,costA+costB,costB+trans_fee2)\n",
    "        #continue\n",
    "    # AC\n",
    "    if order_need.issubset(W[C]|W[A]):\n",
    "        trans_fee1=len(order_need.difference(W[A]))*transfee[A][C] #从A去的转运费\n",
    "        trans_fee2=len(order_need.difference(W[C]))*transfee[A][C] #从C去的转运费\n",
    "        cost4=min(costA+trans_fee1,costA+costC,costC+trans_fee2)\n",
    "        #continue\n",
    "    # BC\n",
    "    if order_need.issubset(W[B]|W[C]):\n",
    "        cost5=min(costB+costC,costB+len(order_need.difference(W[B]))*transfee[B][C],costC+len(order_need.difference(W[C]))*transfee[B][C])\n",
    "\n",
    "\n",
    "    # 必须要三个仓库\n",
    "\n",
    "    # 都直接去\n",
    "    cost6=costA+costB+costC\n",
    "\n",
    "\n",
    "    # B,C都转到A,统一由A去终点\n",
    "    # 需要决定B,C转多少货品去A\n",
    "    # 如果B去A的运费低，则C只运B没有的\n",
    "    n_sat=order_need.difference(W[A])\n",
    "    n_sat_2=n_sat.difference(W[B]) # A也没有，B也没有,必须由C发\n",
    "\n",
    "    if transfee[B][A]<=transfee[C][A]:\n",
    "        cost7=len(n_sat_2)*transfee[C][A]+(len(n_sat)-len(n_sat_2))*transfee[B][A]+costA\n",
    "    else:\n",
    "        n_sat_3=n_sat.difference(W[C])\n",
    "        cost7=(len(n_sat)-len(n_sat_3))*transfee[C][A]+len(n_sat_3)*transfee[B][A]+costA\n",
    "\n",
    "    # A,B发货\n",
    "    # 比较C->B和C->A的转运费\n",
    "    # C->A  A,B发货\n",
    "    if transfee[C][B]>transfee[C][A]:\n",
    "        cost8=transfee[C][A]*len(n_sat_2)+costA+costB\n",
    "    # C->B  A,B发货\n",
    "    else:\n",
    "        cost8=transfee[C][B]*len(n_sat_2)+costA+costB\n",
    "    \n",
    "    \n",
    "    # AC发货\n",
    "    # 比较B->A和B->C的转运费\n",
    "    # C->客户 B->A\n",
    "    if transfee[B][A]<=transfee[C][A]:\n",
    "        cost9=costC+len(order_need.difference(W[C]|W[A]))*transfee[B][A]+costA\n",
    "    # C->客户 B->C\n",
    "    else:\n",
    "        cost9=costC+len(order_need.difference(W[C]|W[A]))*transfee[C][B]+costA\n",
    "\n",
    "    # BC发货\n",
    "    # 比较A->B和A->C的转运费\n",
    "    if transfee[A][B]<=transfee[A][C]:\n",
    "        cost10=costC+len(order_need.difference(W[C]|W[B]))*transfee[B][A]+costB\n",
    "    # C->客户 B->C\n",
    "    else:\n",
    "        cost10=costC+len(order_need.difference(W[C]|W[B]))*transfee[A][C]+costB    \n",
    "\n",
    "    # C,A都转到B\n",
    "    if transfee[C][B]>=transfee[A][B]:\n",
    "        cost11=costB+transfee[C][B]*len(order_need.difference(W[A]|W[B]))+transfee[A][B]*(len(order_need.difference(W[B]))-len(order_need.difference(W[A]|W[B])))\n",
    "    else:\n",
    "        cost11=costB+transfee[A][B]*len(order_need.difference(W[C]|W[B]))+transfee[C][B]*(len(order_need.difference(W[B]))-len(order_need.difference(W[C]|W[B])))\n",
    "\n",
    "    # A,B都转到C\n",
    "    if transfee[A][C]>=transfee[B][C]:\n",
    "        cost11=costB+transfee[A][C]*len(order_need.difference(W[C]|W[B]))+transfee[B][C]*(len(order_need.difference(W[C]))-len(order_need.difference(W[C]|W[B])))\n",
    "    else:\n",
    "        cost11=costB+transfee[B][C]*len(order_need.difference(W[C]|W[A]))+transfee[A][C]*(len(order_need.difference(W[C]))-len(order_need.difference(W[C]|W[A])))\n",
    "    cost.append(min(cost1,cost2,cost3,cost4,cost5,cost6,cost7,cost8,cost9,cost10,cost11,cost12))\n",
    "    \n",
    "    "
   ]
  },
  {
   "cell_type": "code",
   "execution_count": 10,
   "metadata": {},
   "outputs": [
    {
     "name": "stdout",
     "output_type": "stream",
     "text": [
      "13.468322097560483\n",
      "{'10', '36', '70'}\n",
      "False\n"
     ]
    }
   ],
   "source": [
    "order_need=set(SKU_in_order[0])\n",
    "pos=dis(pos_o[0])\n",
    "print(3+0.2*(pos[2]-5))\n",
    "sa=order_need.difference(W[2])\n",
    "print(sa)\n",
    "print(sa.issubset(W[2]))"
   ]
  },
  {
   "cell_type": "code",
   "execution_count": 35,
   "metadata": {},
   "outputs": [
    {
     "name": "stdout",
     "output_type": "stream",
     "text": [
      "574709.3670648924\n",
      "16.52877894311273\n",
      "9.038227045490675\n",
      "11.714438945919525\n",
      "11.885450925725946\n",
      "6.183430223610827\n",
      "11.329215105099605\n",
      "12.951271936325915\n",
      "15.32074186113215\n",
      "14.553459388847125\n",
      "12.17620797388831\n",
      "50000\n"
     ]
    }
   ],
   "source": [
    "print(sum(cost))\n",
    "for i in range(0,10):\n",
    "    print(cost[i])\n",
    "\n",
    "print(len(cost))"
   ]
  }
 ],
 "metadata": {
  "kernelspec": {
   "display_name": "Python 3.9.12 ('base')",
   "language": "python",
   "name": "python3"
  },
  "language_info": {
   "codemirror_mode": {
    "name": "ipython",
    "version": 3
   },
   "file_extension": ".py",
   "mimetype": "text/x-python",
   "name": "python",
   "nbconvert_exporter": "python",
   "pygments_lexer": "ipython3",
   "version": "3.9.12"
  },
  "orig_nbformat": 4,
  "vscode": {
   "interpreter": {
    "hash": "0bb2a65585ff5a8f5f3ffb595fa8ec7d90894bbaf99caac74ba4144cd9a3ae49"
   }
  }
 },
 "nbformat": 4,
 "nbformat_minor": 2
}
