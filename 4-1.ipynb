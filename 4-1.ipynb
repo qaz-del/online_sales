{
 "cells": [
  {
   "cell_type": "code",
   "execution_count": 1,
   "metadata": {},
   "outputs": [],
   "source": [
    "import pandas as pd\n",
    "import numpy as np\n",
    "from apyori import apriori"
   ]
  },
  {
   "cell_type": "code",
   "execution_count": 3,
   "metadata": {},
   "outputs": [
    {
     "data": {
      "text/html": [
       "<div>\n",
       "<style scoped>\n",
       "    .dataframe tbody tr th:only-of-type {\n",
       "        vertical-align: middle;\n",
       "    }\n",
       "\n",
       "    .dataframe tbody tr th {\n",
       "        vertical-align: top;\n",
       "    }\n",
       "\n",
       "    .dataframe thead th {\n",
       "        text-align: right;\n",
       "    }\n",
       "</style>\n",
       "<table border=\"1\" class=\"dataframe\">\n",
       "  <thead>\n",
       "    <tr style=\"text-align: right;\">\n",
       "      <th></th>\n",
       "      <th>订单</th>\n",
       "      <th>订单中的SKU</th>\n",
       "      <th>订单对应的顾客位置坐标</th>\n",
       "    </tr>\n",
       "  </thead>\n",
       "  <tbody>\n",
       "    <tr>\n",
       "      <th>0</th>\n",
       "      <td>O00001</td>\n",
       "      <td>[77,63,94,1,36,10,70,86,14,67]</td>\n",
       "      <td>[71.0270441124638,33.8644796735834]</td>\n",
       "    </tr>\n",
       "    <tr>\n",
       "      <th>1</th>\n",
       "      <td>O00002</td>\n",
       "      <td>[36,25,24,33,92,76]</td>\n",
       "      <td>[55.4853668373032,76.1047715540322]</td>\n",
       "    </tr>\n",
       "    <tr>\n",
       "      <th>2</th>\n",
       "      <td>O00003</td>\n",
       "      <td>[74,23,26,89]</td>\n",
       "      <td>[47.9812275454335,35.6245047959696]</td>\n",
       "    </tr>\n",
       "    <tr>\n",
       "      <th>3</th>\n",
       "      <td>O00004</td>\n",
       "      <td>[67,20]</td>\n",
       "      <td>[46.5971290026430,42.0066352580043]</td>\n",
       "    </tr>\n",
       "    <tr>\n",
       "      <th>4</th>\n",
       "      <td>O00005</td>\n",
       "      <td>[82,34,61,69,63,87,28,75]</td>\n",
       "      <td>[54.4360971527062,76.6912521649171]</td>\n",
       "    </tr>\n",
       "  </tbody>\n",
       "</table>\n",
       "</div>"
      ],
      "text/plain": [
       "       订单                         订单中的SKU                          订单对应的顾客位置坐标\n",
       "0  O00001  [77,63,94,1,36,10,70,86,14,67]  [71.0270441124638,33.8644796735834]\n",
       "1  O00002             [36,25,24,33,92,76]  [55.4853668373032,76.1047715540322]\n",
       "2  O00003                   [74,23,26,89]  [47.9812275454335,35.6245047959696]\n",
       "3  O00004                         [67,20]  [46.5971290026430,42.0066352580043]\n",
       "4  O00005       [82,34,61,69,63,87,28,75]  [54.4360971527062,76.6912521649171]"
      ]
     },
     "execution_count": 3,
     "metadata": {},
     "output_type": "execute_result"
    }
   ],
   "source": [
    "raw_data=pd.read_excel(r\"D:\\数模\\第四次模拟题——在线零售商的订单履行\\附件一.xlsx\")\n",
    "raw_data.head()"
   ]
  },
  {
   "cell_type": "code",
   "execution_count": 4,
   "metadata": {},
   "outputs": [
    {
     "name": "stdout",
     "output_type": "stream",
     "text": [
      "50000\n"
     ]
    }
   ],
   "source": [
    "SKU1=raw_data['订单中的SKU']\n",
    "SKU_in_order=[]\n",
    "# 原有数据类型为'[]'型，先进行转化,最终要得到['','']的形式\n",
    "for order in SKU1:\n",
    "    if type(order)==int:\n",
    "        SKU_in_order.append(str(order))\n",
    "    else:\n",
    "        order=order[1:-1].split(\",\")\n",
    "        SKU_in_order.append(order)\n",
    "\n",
    "print(len(SKU_in_order))\n"
   ]
  },
  {
   "cell_type": "code",
   "execution_count": null,
   "metadata": {},
   "outputs": [],
   "source": [
    "result=list(apriori(SKU_in_order,min_support=0.0001,max_length=2))\n",
    "result_pd=pd.DataFrame(result)\n",
    "result_pd.to_csv(\"2长度关联度.csv\")"
   ]
  },
  {
   "cell_type": "code",
   "execution_count": null,
   "metadata": {},
   "outputs": [
    {
     "name": "stdout",
     "output_type": "stream",
     "text": [
      "[1, 0.0, 0.0, 0.0, 0.0, 0.0, 0.0, 0.0, 0.0, 1, 0.0, 0.0, 0.0, 1, 0.0, 0.0, 0.0, 0.0, 0.0, 0.0, 0.0, 0.0, 0.0, 0.0, 0.0, 0.0, 0.0, 0.0, 0.0, 0.0, 0.0, 0.0, 0.0, 0.0, 0.0, 1, 0.0, 0.0, 0.0, 0.0, 0.0, 0.0, 0.0, 0.0, 0.0, 0.0, 0.0, 0.0, 0.0, 0.0, 0.0, 0.0, 0.0, 0.0, 0.0, 0.0, 0.0, 0.0, 0.0, 0.0, 0.0, 0.0, 1, 0.0, 0.0, 0.0, 1, 0.0, 0.0, 1, 0.0, 0.0, 0.0, 0.0, 0.0, 0.0, 1, 0.0, 0.0, 0.0, 0.0, 0.0, 0.0, 0.0, 0.0, 1, 0.0, 0.0, 0.0, 0.0, 0.0, 0.0, 0.0, 1, 0.0, 0.0, 0.0, 0.0, 0.0, 0.0]\n"
     ]
    }
   ],
   "source": [
    "# 转化为100维向量,订单j的货物i为SKU_vec[i-1][j]=1\n",
    "SKU_vec=[[]]\n",
    "for i in SKU_in_order:\n",
    "    tmp=list(np.zeros(101))\n",
    "    #print(i)\n",
    "    for j in i:\n",
    "        #print(j)\n",
    "        tmp[int(j)]=1\n",
    "    SKU_vec.append(tmp)\n",
    "\n",
    "print(SKU_vec[1][1:])"
   ]
  },
  {
   "cell_type": "code",
   "execution_count": 5,
   "metadata": {},
   "outputs": [
    {
     "name": "stdout",
     "output_type": "stream",
     "text": [
      "[   0. 2710. 2660. 2764. 2716. 2791. 2690. 2705. 2728. 2623. 2713. 2732.\n",
      " 2650. 2745. 2727. 2764. 2762. 2756. 2704. 2705. 2707. 2703. 2714. 2762.\n",
      " 2705. 2774. 2681. 2737. 2760. 2713. 2790. 2839. 2701. 2698. 2688. 2743.\n",
      " 2789. 2749. 2786. 2784. 2804. 2788. 2718. 2865. 2726. 2772. 2712. 2680.\n",
      " 2798. 2687. 2771. 2821. 2845. 2737. 2821. 2800. 2776. 2709. 2739. 2841.\n",
      " 2750. 2798. 2868. 2728. 2704. 2759. 2913. 2812. 2731. 2689. 2788. 2794.\n",
      " 2730. 2711. 2742. 2733. 2825. 2784. 2779. 2800. 2722. 2762. 2788. 2776.\n",
      " 2719. 2730. 2728. 2766. 2711. 2781. 2734. 2870. 2758. 2763. 2804. 2653.\n",
      " 2702. 2694. 2808. 2917. 2767.]\n",
      "275269.0\n"
     ]
    },
    {
     "data": {
      "text/plain": [
       "(array([-20.,   0.,  20.,  40.,  60.,  80., 100., 120.]),\n",
       " [Text(0, 0, ''),\n",
       "  Text(0, 0, ''),\n",
       "  Text(0, 0, ''),\n",
       "  Text(0, 0, ''),\n",
       "  Text(0, 0, ''),\n",
       "  Text(0, 0, ''),\n",
       "  Text(0, 0, ''),\n",
       "  Text(0, 0, '')])"
      ]
     },
     "execution_count": 5,
     "metadata": {},
     "output_type": "execute_result"
    },
    {
     "data": {
      "image/png": "[encoded data removed]",
      "text/plain": [
       "<Figure size 432x288 with 1 Axes>"
      ]
     },
     "metadata": {
      "needs_background": "light"
     },
     "output_type": "display_data"
    }
   ],
   "source": [
    "cnt=np.zeros(101)\n",
    "for i in SKU_in_order:\n",
    "    if type(i)==list:\n",
    "        for j in i:\n",
    "            cnt[int(j)]+=1\n",
    "    else :\n",
    "        cnt[int(i)]+=1\n",
    " \n",
    "print(cnt)\n",
    "print(cnt.sum())\n",
    "from matplotlib import pyplot as plt\n",
    "plt.rcParams['font.sans-serif']=['SimHei'] #用来正常显示中文标签\n",
    "plt.rcParams['axes.unicode_minus']=False #用来正常显示负号 #有中文出现的情况，需要u'内容'\n",
    "plt.plot(cnt[1:])\n",
    "plt.xlabel(\"100种货品\",fontsize=20)\n",
    "plt.ylabel(\"出现次数\",fontsize=20)\n",
    "plt.xticks(size=20)\n",
    "plt.xticks(size=10)"
   ]
  },
  {
   "cell_type": "code",
   "execution_count": 6,
   "metadata": {},
   "outputs": [
    {
     "data": {
      "text/plain": [
       "(array([-2.,  0.,  2.,  4.,  6.,  8., 10.]),\n",
       " [Text(0, 0, ''),\n",
       "  Text(0, 0, ''),\n",
       "  Text(0, 0, ''),\n",
       "  Text(0, 0, ''),\n",
       "  Text(0, 0, ''),\n",
       "  Text(0, 0, ''),\n",
       "  Text(0, 0, '')])"
      ]
     },
     "execution_count": 6,
     "metadata": {},
     "output_type": "execute_result"
    },
    {
     "data": {
      "image/png": "[encoded data removed]",
      "text/plain": [
       "<Figure size 432x288 with 1 Axes>"
      ]
     },
     "metadata": {
      "needs_background": "light"
     },
     "output_type": "display_data"
    }
   ],
   "source": [
    "# 长度统计\n",
    "len_cnt=np.zeros(11)\n",
    "for i in SKU_in_order:\n",
    "    if type(i)==list:\n",
    "        len_cnt[len(i)]+=1\n",
    "    else :\n",
    "        len_cnt[1]+=1\n",
    "\n",
    "plt.plot(len_cnt[1:])\n",
    "plt.xlabel(\"订单中的货品数\",fontsize=20)\n",
    "plt.ylabel(\"出现次数\",fontsize=20)\n",
    "plt.xticks(size=20)\n",
    "plt.xticks(size=10)"
   ]
  },
  {
   "cell_type": "code",
   "execution_count": 7,
   "metadata": {},
   "outputs": [
    {
     "name": "stdout",
     "output_type": "stream",
     "text": [
      "16991\n",
      "33009\n"
     ]
    }
   ],
   "source": [
    "# 需要的订单数。将100个货品分成3块。仓库1放 1，2块 仓库2放 2，3 块 仓库3放 1，3块\n",
    "# 此处为按序号分\n",
    "cnt_2=0\n",
    "cnt_1=0\n",
    "for i in SKU_in_order:\n",
    "    ii=[int(j) for j in i]\n",
    "    ii.sort(reverse=False)\n",
    "    if ii[0]<33 and ii[-1]>66:\n",
    "        cnt_2+=1\n",
    "    else:\n",
    "        cnt_1+=1\n",
    "print(cnt_1)\n",
    "print(cnt_2)"
   ]
  },
  {
   "cell_type": "code",
   "execution_count": 8,
   "metadata": {},
   "outputs": [
    {
     "name": "stdout",
     "output_type": "stream",
     "text": [
      "{3, 5, 25, 30, 31, 36, 38, 39, 40, 41, 43, 45, 48, 50, 51, 52, 54, 55, 56, 59, 61, 62, 66, 67, 70, 71, 76, 77, 78, 79, 82, 83, 87, 89, 91, 94, 98, 99, 100}\n"
     ]
    }
   ],
   "source": [
    "key_val=[]\n",
    "for i in range(1,101):\n",
    "    key_val.append([i,cnt[i]])\n",
    "\n",
    "key_val=pd.DataFrame(key_val)\n",
    "d=key_val.sort_values(1,ascending=False)\n",
    "SKU_sort=d.iloc[:,0].values\n",
    "\n",
    "A=set(SKU_sort[0:39])\n",
    "B=set(SKU_sort[40:69])\n",
    "C=set(SKU_sort[70:99])\n",
    "D=set(SKU_sort[0:9])\n",
    "\n",
    "print(A)\n",
    "\n",
    "# 仓库1 放A+B   仓库2 放B+C  仓库3 放 B+C+D"
   ]
  },
  {
   "cell_type": "code",
   "execution_count": 9,
   "metadata": {},
   "outputs": [
    {
     "name": "stdout",
     "output_type": "stream",
     "text": [
      "[ 99  66  91  62  43  52  59  31  76  54  51  67  98  94  40  55  79  48\n",
      "  61  71   5  30  36  41  82  70  38  77  39  89  78  56  83  25  45  50\n",
      " 100  87   3  15  93  16  81  23  28  65  92  17  60  37  13  35  74  58\n",
      "  27  53  90  75  11  68  72  85  63  86   8  14  44  80  84  42   4  22\n",
      "  29  10  46  73  88   1  57  20  19  24   7  64  18  21  96  32  33  97\n",
      "   6  69  34  49  26  47   2  95  12   9]\n"
     ]
    }
   ],
   "source": [
    "print(SKU_sort)"
   ]
  },
  {
   "cell_type": "code",
   "execution_count": null,
   "metadata": {},
   "outputs": [
    {
     "name": "stdout",
     "output_type": "stream",
     "text": [
      "19469\n",
      "30531\n",
      "80531\n"
     ]
    }
   ],
   "source": [
    "cnt_2_s=0\n",
    "cnt_1_s=0\n",
    "for i in SKU_in_order:\n",
    "    ii=set([int(j) for j in i])\n",
    "    if ii.issubset(A|B):\n",
    "        cnt_1_s+=1\n",
    "    elif ii.issubset(A|C):\n",
    "        cnt_1_s+=1\n",
    "    elif ii.issubset(B|C|D):\n",
    "        cnt_1_s+=1\n",
    "    else:\n",
    "        cnt_2_s+=1\n",
    "\n",
    "print(cnt_1_s)\n",
    "print(cnt_2_s)\n",
    "print(cnt_1_s+cnt_2_s*2)"
   ]
  },
  {
   "cell_type": "code",
   "execution_count": null,
   "metadata": {},
   "outputs": [
    {
     "name": "stdout",
     "output_type": "stream",
     "text": [
      "4298\n",
      "45702\n"
     ]
    }
   ],
   "source": [
    "cnt_2_ss=0\n",
    "cnt_1_ss=0\n",
    "\n",
    "S1=set(SKU_sort[0:9])\n",
    "S2=set(SKU_sort[10:19])\n",
    "S3=set(SKU_sort[20:29])\n",
    "S4=set(SKU_sort[30:39])\n",
    "S5=set(SKU_sort[40:49])\n",
    "S6=set(SKU_sort[50:59])\n",
    "S7=set(SKU_sort[60:69])\n",
    "S8=set(SKU_sort[70:79])\n",
    "S9=set(SKU_sort[80:89])\n",
    "S10=set(SKU_sort[90:99])\n",
    "for i in SKU_in_order:\n",
    "    ii=set([int(j) for j in i])\n",
    "    if ii.issubset(S1|S2|S5|S10):\n",
    "        cnt_1_ss+=1\n",
    "    elif ii.issubset(S1|S3|S6|S9):\n",
    "        cnt_1_ss+=1\n",
    "    elif ii.issubset(S1|S4|S7|S8):\n",
    "        cnt_1_ss+=1\n",
    "    else:\n",
    "        cnt_2_ss+=1\n",
    "\n",
    "print(cnt_1_ss)\n",
    "print(cnt_2_ss)"
   ]
  },
  {
   "cell_type": "code",
   "execution_count": null,
   "metadata": {},
   "outputs": [],
   "source": [
    "from random import shuffle\n",
    "\n",
    "minval=100000\n",
    "t_best=[]\n",
    "t=SKU_sort\n",
    "for c in range(1000):\n",
    "    cnt_2_ss=0\n",
    "    cnt_1_ss=0\n",
    "    shuffle(t)\n",
    "    AA=set(t[0:69])\n",
    "    shuffle(t)\n",
    "    BB=set(t[0:69])\n",
    "    shuffle(t)\n",
    "    CC=set(t[0:69])\n",
    "    for i in SKU_in_order:\n",
    "        ii=set([int(j) for j in i])\n",
    "        if ii.issubset(AA):\n",
    "            cnt_1_ss+=1\n",
    "        elif ii.issubset(BB):\n",
    "            cnt_1_ss+=1\n",
    "        elif ii.issubset(CC):\n",
    "            cnt_1_ss+=1\n",
    "        else:\n",
    "            cnt_2_ss+=1\n",
    "\n",
    "    if minval>cnt_1_ss+2*cnt_2_ss:\n",
    "        minval=cnt_1_ss+2*cnt_2_ss\n",
    "        t_best=t"
   ]
  },
  {
   "cell_type": "code",
   "execution_count": null,
   "metadata": {},
   "outputs": [
    {
     "name": "stdout",
     "output_type": "stream",
     "text": [
      "79000\n",
      "[ 70   3  53  98   1  28  46  67  77  48   5  27  82  89  50  26  73  19\n",
      "  13  75  79  38  86  54  32  63  78  84  31  14   9  20  62  65  44  90\n",
      "  94  30  92  59  88   4  36  71  22  83  39  57  11  85  52  99  76  12\n",
      "  49  66  95  23  64  47  45  21  37  56  80 100   7  61  35  93  29   8\n",
      "  51  60  96  24  15  55   2  18  17  33  97  40  74  34  16   6  69  68\n",
      "  10  42  25  81  87  43  41  72  58  91]\n",
      "79780\n"
     ]
    }
   ],
   "source": [
    "print(minval)\n",
    "print(t_best)\n",
    "print(cnt_1_s+2*cnt_2_s)"
   ]
  },
  {
   "cell_type": "code",
   "execution_count": null,
   "metadata": {},
   "outputs": [
    {
     "name": "stdout",
     "output_type": "stream",
     "text": [
      "275269.0\n",
      "(100, 100)\n"
     ]
    }
   ],
   "source": [
    "# 构造共现矩阵\n",
    "ros=np.zeros((50000,100))\n",
    "for i in range(len(SKU_in_order)):\n",
    "\n",
    "    if type(SKU_in_order[i])==str:\n",
    "        ros[i][int(SKU_in_order[i])-1]=1\n",
    "    else:\n",
    "        for j in SKU_in_order[i]:\n",
    "            ros[i][int(j)-1]=1\n",
    "\n",
    "\n",
    "# for i in range(100):\n",
    "#     print(ros[i,:].sum())\n",
    "R=np.dot(ros.T,ros)\n",
    "print(R.trace())\n",
    "print(R.shape)"
   ]
  },
  {
   "cell_type": "code",
   "execution_count": null,
   "metadata": {},
   "outputs": [],
   "source": [
    "# 贪婪热销算法   \n",
    "# SKU_sort 为排好序的数组\n",
    "# x个货品在三个仓库都有，y个货品在两个仓库里有，z个货品只有一个仓库有\n",
    "# x+y+z=100\n",
    "# 3*x+2*y+z=210\n",
    "#  X=Z+10\n",
    "#  y=110-2x\n",
    "bestsum=9999999\n",
    "bestW1=[]\n",
    "bestW2=[]\n",
    "bestW3=[]\n",
    "bestx=0\n",
    "c1=0\n",
    "c2=0\n",
    "for x in range(1,70):\n",
    "    \n",
    "    # 准备仓库\n",
    "    W1=[]\n",
    "    W2=[]\n",
    "    W3=[]\n",
    "\n",
    "    # x\n",
    "    for i in range(x):\n",
    "        W1.append(SKU_sort[i]-1)\n",
    "        W2.append(SKU_sort[i]-1)\n",
    "        W3.append(SKU_sort[i]-1)\n",
    "\n",
    "    # print(W1)\n",
    "    # print(len(W1))\n",
    "\n",
    "\n",
    "    # y\n",
    "    if x<110-x:\n",
    "        for i in range(x,min(110-x,100)):\n",
    "\n",
    "            item=SKU_sort[i]-1\n",
    "\n",
    "            sum1=0\n",
    "            if len(W1)<70:\n",
    "                for j in W1:\n",
    "                    sum1+=R[item][j]\n",
    "            sum1=sum1/len(W1)\n",
    "            #else :sum1=99999\n",
    "\n",
    "            sum2=0\n",
    "            if len(W2)<70:\n",
    "                for j in W2:\n",
    "                    sum2+=R[item][j]\n",
    "            sum2=sum2/len(W2)\n",
    "            #else :sum2=99999\n",
    "\n",
    "            sum3=0\n",
    "            if len(W3)<70:\n",
    "                for j in W3:\n",
    "                    sum3+=R[item][j]\n",
    "            sum3=sum3/len(W3)\n",
    "            #else :sum3=99999\n",
    "            \n",
    "            if sum1!=0 and sum2!=0 and sum3!=0:\n",
    "                if min(sum1,sum2,sum3)==sum1:\n",
    "                    W2.append(item)\n",
    "                    W3.append(item)\n",
    "                elif min(sum1,sum2,sum3)==sum2:\n",
    "                    W1.append(item)\n",
    "                    W3.append(item)\n",
    "                elif min(sum1,sum2,sum3)==sum3:\n",
    "                    W1.append(item)\n",
    "                    W2.append(item)\n",
    "            \n",
    "            if sum1==0 or sum2==0 or sum3==0:\n",
    "                if sum1!=0:\n",
    "                    W1.append(item)\n",
    "                if sum2!=0:\n",
    "                    W2.append(item)\n",
    "                if sum3!=0:\n",
    "                    W3.append(item)\n",
    "        # print(len(W1))\n",
    "        # print(len(W2))\n",
    "\n",
    "    # z   \n",
    "    if 110-x<100:\n",
    "        for i in range(110-x,100):\n",
    "\n",
    "            item=SKU_sort[i]-1\n",
    "\n",
    "            sum1=0\n",
    "            if len(W1)<70:\n",
    "                for j in W1:\n",
    "                    sum1+=R[item][j]\n",
    "            sum1=sum1/len(W1)\n",
    "\n",
    "            sum2=0\n",
    "            if len(W2)<70:\n",
    "                for j in W2:\n",
    "                    sum2+=R[item][j]\n",
    "            sum2=sum2/len(W2)\n",
    "\n",
    "            sum3=0\n",
    "            if len(W3)<70:\n",
    "                for j in W3:\n",
    "                    sum3+=R[item][j]\n",
    "            sum3=sum3/len(W3)\n",
    "            \n",
    "            if max(sum1,sum2,sum3)==sum1 and sum1!=0:\n",
    "                    W1.append(item)\n",
    "            elif max(sum1,sum2,sum3)==sum2 and sum2!=0:\n",
    "                    W2.append(item)\n",
    "            elif max(sum1,sum2,sum3)==sum3 and sum3!=0:\n",
    "                    W3.append(item)\n",
    "\n",
    "    # 序号从 0-99变为1—100\n",
    "    for i in range(len(W1)):\n",
    "        W1[i]=W1[i]+1\n",
    "    for i in range(len(W2)):\n",
    "        W2[i]=W2[i]+1\n",
    "    for i in range(len(W3)):\n",
    "        W3[i]=W3[i]+1\n",
    "    W_S1=set(W1)\n",
    "    W_S2=set(W2)\n",
    "    W_S3=set(W3)\n",
    "    sum=0\n",
    "    cm_1=0\n",
    "    cm_2=0\n",
    "    for i in SKU_in_order:\n",
    "        if type(i)==str:\n",
    "            ii=[int(i)]\n",
    "        else:\n",
    "            ii=[int(t) for t in i]\n",
    "        if set(ii).issubset(W_S1) or set(ii).issubset(W_S2) or set(ii).issubset(W_S3):\n",
    "            sum+=1\n",
    "            cm_1+=1\n",
    "        elif set(ii).issubset(W_S1 | W_S2) or set(ii).issubset(W_S2 | W_S3) or set(ii).issubset(W_S3|W_S1):\n",
    "            sum+=2\n",
    "            cm_2+=1\n",
    "        else:\n",
    "            sum+=3\n",
    "    \n",
    "    if sum<bestsum:\n",
    "        bestsum=sum\n",
    "        bestW1=W1\n",
    "        bestW2=W2\n",
    "        bestW3=W3\n",
    "        c1=cm_1\n",
    "        c2=cm_2\n",
    "        bestx=x\n",
    "    "
   ]
  },
  {
   "cell_type": "code",
   "execution_count": null,
   "metadata": {},
   "outputs": [
    {
     "name": "stdout",
     "output_type": "stream",
     "text": [
      "75697\n",
      "70\n",
      "70\n",
      "70\n",
      "24303\n",
      "25697\n",
      "100\n",
      "12\n",
      "[99, 66, 91, 62, 43, 52, 59, 31, 76, 54, 51, 67, 61, 71, 30, 36, 41, 82, 38, 39, 78, 56, 83, 45, 50, 87, 3, 15, 81, 23, 28, 65, 92, 60, 37, 35, 74, 58, 53, 90, 75, 11, 72, 85, 8, 14, 44, 80, 29, 10, 46, 1, 57, 20, 19, 24, 21, 96, 32, 33, 97, 6, 69, 34, 49, 26, 47, 2, 95, 12]\n",
      "[99, 66, 91, 62, 43, 52, 59, 31, 76, 54, 51, 67, 98, 94, 40, 55, 79, 48, 5, 30, 36, 70, 77, 89, 83, 25, 100, 87, 3, 15, 93, 16, 23, 28, 17, 60, 13, 74, 27, 75, 11, 68, 85, 63, 86, 8, 14, 44, 84, 42, 4, 22, 73, 88, 20, 24, 7, 64, 18, 33, 97, 6, 69, 34, 49, 26, 47, 2, 95, 9]\n",
      "[99, 66, 91, 62, 43, 52, 59, 31, 76, 54, 51, 67, 98, 94, 40, 55, 79, 48, 61, 71, 5, 41, 82, 70, 38, 77, 39, 89, 78, 56, 25, 45, 50, 100, 93, 16, 81, 65, 92, 17, 37, 13, 35, 58, 27, 53, 90, 68, 72, 63, 86, 80, 84, 42, 4, 22, 29, 10, 46, 73, 88, 1, 57, 19, 7, 64, 18, 21, 96, 32]\n"
     ]
    }
   ],
   "source": [
    "print(bestsum)\n",
    "print(len(bestW1))\n",
    "print(len(bestW2))\n",
    "print(len(bestW3))\n",
    "print(c1)\n",
    "print(c2)\n",
    "\n",
    "sb1=set(bestW1)\n",
    "sb2=set(bestW2)\n",
    "sb3=set(bestW3)\n",
    "\n",
    "print(len(sb1|sb2|sb3))\n",
    "print(bestx)\n",
    "print(bestW1)\n",
    "print(bestW2)\n",
    "print(bestW3)"
   ]
  },
  {
   "cell_type": "code",
   "execution_count": null,
   "metadata": {},
   "outputs": [
    {
     "name": "stdout",
     "output_type": "stream",
     "text": [
      "[99, 66, 91, 62, 43, 52, 59, 31, 76, 54, 51, 67, 61, 71, 30, 36, 41, 82, 38, 39, 78, 56, 83, 45, 50, 87, 3, 15, 81, 23, 28, 65, 92, 60, 37, 35, 74, 58, 53, 90, 75, 11, 72, 85, 8, 14, 44, 80, 29, 10, 46, 1, 57, 20, 19, 24, 21, 96, 32, 33, 97, 6, 69, 34, 49, 26, 47, 2, 95, 12]\n"
     ]
    }
   ],
   "source": [
    "for i in range(len(bestW1)):\n",
    "        bestW1[i]=bestW1[i]+1\n",
    "\n",
    "print(bestW1)"
   ]
  },
  {
   "cell_type": "code",
   "execution_count": null,
   "metadata": {},
   "outputs": [],
   "source": [
    "'''\n",
    "79758\n",
    "70\n",
    "70\n",
    "70\n",
    "23009\n",
    "24224\n",
    "100\n",
    "x=12\n",
    "'''"
   ]
  },
  {
   "cell_type": "code",
   "execution_count": null,
   "metadata": {},
   "outputs": [
    {
     "data": {
      "text/plain": [
       "71792"
      ]
     },
     "execution_count": 53,
     "metadata": {},
     "output_type": "execute_result"
    }
   ],
   "source": [
    "c1*1+c2*2"
   ]
  },
  {
   "cell_type": "code",
   "execution_count": null,
   "metadata": {},
   "outputs": [
    {
     "name": "stdout",
     "output_type": "stream",
     "text": [
      "range(10, 100)\n"
     ]
    }
   ],
   "source": [
    "print(range(10,100))"
   ]
  },
  {
   "cell_type": "code",
   "execution_count": null,
   "metadata": {},
   "outputs": [
    {
     "data": {
      "text/plain": [
       "100"
      ]
     },
     "execution_count": 20,
     "metadata": {},
     "output_type": "execute_result"
    }
   ],
   "source": [
    "len(W_S1|W_S2|W_S3)"
   ]
  },
  {
   "cell_type": "code",
   "execution_count": null,
   "metadata": {},
   "outputs": [],
   "source": [
    "def func(x):\n",
    "    w1_list=x[0:99]\n",
    "    w2_list=x[100:199]\n",
    "    w3_list=x[200:299]\n",
    "    W1=[]\n",
    "    W2=[]\n",
    "    W3=[]\n",
    "    for i in range(100):\n",
    "        if w1_list[i]==1:\n",
    "            W1.append(str(i+1))"
   ]
  },
  {
   "cell_type": "code",
   "execution_count": null,
   "metadata": {},
   "outputs": [],
   "source": [
    "constraint_eq = [\n",
    "    lambda x: sum(x[0:99])-70,\n",
    "    lambda x: sum(x[100:199])-70,\n",
    "    lambda x: sum(x[200:299])-70\n",
    "]"
   ]
  },
  {
   "cell_type": "code",
   "execution_count": null,
   "metadata": {},
   "outputs": [],
   "source": [
    "\n",
    "from sko.GA import GA\n",
    "pso = GA(func=func, n_dim=300, max_iter=300, lb=np.zeros(300), ub=np.ones(300), constraint_eq=constraint_eq,precision=np.ones(300))"
   ]
  }
 ],
 "metadata": {
  "kernelspec": {
   "display_name": "Python 3.9.12 ('base')",
   "language": "python",
   "name": "python3"
  },
  "language_info": {
   "codemirror_mode": {
    "name": "ipython",
    "version": 3
   },
   "file_extension": ".py",
   "mimetype": "text/x-python",
   "name": "python",
   "nbconvert_exporter": "python",
   "pygments_lexer": "ipython3",
   "version": "3.9.12"
  },
  "orig_nbformat": 4,
  "vscode": {
   "interpreter": {
    "hash": "0bb2a65585ff5a8f5f3ffb595fa8ec7d90894bbaf99caac74ba4144cd9a3ae49"
   }
  }
 },
 "nbformat": 4,
 "nbformat_minor": 2
}
